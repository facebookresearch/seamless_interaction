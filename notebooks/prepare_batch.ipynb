{
 "cells": [
  {
   "cell_type": "code",
   "execution_count": 7,
   "id": "31229ba9",
   "metadata": {},
   "outputs": [
    {
     "name": "stderr",
     "output_type": "stream",
     "text": [
      "/opt/hpcaas/.mounts/fs-0df31b178aa4037ac/home/yaoj/projects/seamless_interaction/.venv/lib/python3.10/site-packages/tqdm/auto.py:21: TqdmWarning: IProgress not found. Please update jupyter and ipywidgets. See https://ipywidgets.readthedocs.io/en/stable/user_install.html\n",
      "  from .autonotebook import tqdm as notebook_tqdm\n"
     ]
    }
   ],
   "source": [
    "from utils.fs import SeamlessInteractionFS\n",
    "import shutil\n",
    "import os\n",
    "import glob"
   ]
  },
  {
   "cell_type": "code",
   "execution_count": 90,
   "id": "295efc78",
   "metadata": {},
   "outputs": [],
   "source": [
    "batch_size_dict = {\n",
    "    \"video\": 300,\n",
    "    \"audio\": 500,\n",
    "    \"metadata\": 1500,\n",
    "    \"smplh\": 1000,\n",
    "    \"movement\": 1000,\n",
    "    \"boxes_and_keypoints\": 1000,\n",
    "}"
   ]
  },
  {
   "cell_type": "code",
   "execution_count": 39,
   "id": "b1fd631e",
   "metadata": {},
   "outputs": [],
   "source": [
    "label, split = \"improvised\", \"test\"\n",
    "fs = SeamlessInteractionFS()"
   ]
  },
  {
   "cell_type": "code",
   "execution_count": 43,
   "id": "ca5b59ac",
   "metadata": {},
   "outputs": [
    {
     "data": {
      "text/plain": [
       "'/checkpoint/seamless/yaoj/data/seamless_interaction/dataset/'"
      ]
     },
     "execution_count": 43,
     "metadata": {},
     "output_type": "execute_result"
    }
   ],
   "source": [
    "fs._local_dir"
   ]
  },
  {
   "cell_type": "code",
   "execution_count": 45,
   "id": "34a77364",
   "metadata": {},
   "outputs": [],
   "source": [
    "files = glob.glob(f\"{fs._local_dir}/*/*/video/*\")"
   ]
  },
  {
   "cell_type": "code",
   "execution_count": 46,
   "id": "ede1a113",
   "metadata": {},
   "outputs": [
    {
     "data": {
      "text/plain": [
       "131070"
      ]
     },
     "execution_count": 46,
     "metadata": {},
     "output_type": "execute_result"
    }
   ],
   "source": [
    "len(files)"
   ]
  },
  {
   "cell_type": "markdown",
   "id": "a076096f",
   "metadata": {},
   "source": []
  },
  {
   "cell_type": "code",
   "execution_count": 4,
   "id": "f8be5599",
   "metadata": {},
   "outputs": [
    {
     "name": "stdout",
     "output_type": "stream",
     "text": [
      "batch_0000  batch_0001\n"
     ]
    }
   ],
   "source": [
    "!ls /checkpoint/seamless/yaoj/data/batched_seamless_interaction/improvised/dev/audio"
   ]
  },
  {
   "cell_type": "code",
   "execution_count": 6,
   "id": "9044c336",
   "metadata": {},
   "outputs": [
    {
     "name": "stdout",
     "output_type": "stream",
     "text": [
      "\u001b[01;34m/checkpoint/seamless/yaoj/data/batched_seamless_interaction/\u001b[0m\n",
      "├── \u001b[01;34mimprovised\u001b[0m\n",
      "│   ├── \u001b[01;34mdev\u001b[0m\n",
      "│   │   ├── \u001b[01;34maudio\u001b[0m\n",
      "│   │   │   ├── \u001b[01;34mbatch_0000\u001b[0m\n",
      "│   │   │   └── \u001b[01;34mbatch_0001\u001b[0m\n",
      "│   │   └── \u001b[01;34mvideo\u001b[0m\n",
      "│   │       ├── \u001b[01;34mbatch_0000\u001b[0m\n",
      "│   │       ├── \u001b[01;34mbatch_0001\u001b[0m\n",
      "│   │       ├── \u001b[01;34mbatch_0002\u001b[0m\n",
      "│   │       └── \u001b[01;34mbatch_0003\u001b[0m\n",
      "│   ├── \u001b[01;34mtest\u001b[0m\n",
      "│   │   ├── \u001b[01;34maudio\u001b[0m\n",
      "│   │   │   ├── \u001b[01;34mbatch_0000\u001b[0m\n",
      "│   │   │   ├── \u001b[01;34mbatch_0001\u001b[0m\n",
      "│   │   │   ├── \u001b[01;34mbatch_0002\u001b[0m\n",
      "│   │   │   ├── \u001b[01;34mbatch_0003\u001b[0m\n",
      "│   │   │   └── \u001b[01;34mbatch_0004\u001b[0m\n",
      "│   │   └── \u001b[01;34mvideo\u001b[0m\n",
      "│   │       ├── \u001b[01;34mbatch_0000\u001b[0m\n",
      "│   │       ├── \u001b[01;34mbatch_0001\u001b[0m\n",
      "│   │       ├── \u001b[01;34mbatch_0002\u001b[0m\n",
      "│   │       ├── \u001b[01;34mbatch_0003\u001b[0m\n",
      "│   │       ├── \u001b[01;34mbatch_0004\u001b[0m\n",
      "│   │       ├── \u001b[01;34mbatch_0005\u001b[0m\n",
      "│   │       ├── \u001b[01;34mbatch_0006\u001b[0m\n",
      "│   │       ├── \u001b[01;34mbatch_0007\u001b[0m\n",
      "│   │       ├── \u001b[01;34mbatch_0008\u001b[0m\n",
      "│   │       └── \u001b[01;34mbatch_0009\u001b[0m\n",
      "│   └── \u001b[01;34mtrain\u001b[0m\n",
      "│       └── \u001b[01;34mmetadata\u001b[0m\n",
      "│           ├── \u001b[01;34mbatch_0000\u001b[0m\n",
      "│           ├── \u001b[01;34mbatch_0001\u001b[0m\n",
      "│           ├── \u001b[01;34mbatch_0002\u001b[0m\n",
      "│           ├── \u001b[01;34mbatch_0003\u001b[0m\n",
      "│           ├── \u001b[01;34mbatch_0004\u001b[0m\n",
      "│           ├── \u001b[01;34mbatch_0005\u001b[0m\n",
      "│           ├── \u001b[01;34mbatch_0006\u001b[0m\n",
      "│           ├── \u001b[01;34mbatch_0007\u001b[0m\n",
      "│           ├── \u001b[01;34mbatch_0008\u001b[0m\n",
      "│           ├── \u001b[01;34mbatch_0009\u001b[0m\n",
      "│           ├── \u001b[01;34mbatch_0010\u001b[0m\n",
      "│           ├── \u001b[01;34mbatch_0011\u001b[0m\n",
      "│           ├── \u001b[01;34mbatch_0012\u001b[0m\n",
      "│           ├── \u001b[01;34mbatch_0013\u001b[0m\n",
      "│           ├── \u001b[01;34mbatch_0014\u001b[0m\n",
      "│           ├── \u001b[01;34mbatch_0015\u001b[0m\n",
      "│           ├── \u001b[01;34mbatch_0016\u001b[0m\n",
      "│           ├── \u001b[01;34mbatch_0017\u001b[0m\n",
      "│           ├── \u001b[01;34mbatch_0018\u001b[0m\n",
      "│           ├── \u001b[01;34mbatch_0019\u001b[0m\n",
      "│           ├── \u001b[01;34mbatch_0020\u001b[0m\n",
      "│           ├── \u001b[01;34mbatch_0021\u001b[0m\n",
      "│           ├── \u001b[01;34mbatch_0022\u001b[0m\n",
      "│           └── \u001b[01;34mbatch_0023\u001b[0m\n",
      "└── \u001b[01;34mnaturalistic\u001b[0m\n",
      "    └── \u001b[01;34mtrain\u001b[0m\n",
      "        └── \u001b[01;34mmetadata\u001b[0m\n",
      "            ├── \u001b[01;34mbatch_0000\u001b[0m\n",
      "            ├── \u001b[01;34mbatch_0001\u001b[0m\n",
      "            ├── \u001b[01;34mbatch_0002\u001b[0m\n",
      "            ├── \u001b[01;34mbatch_0003\u001b[0m\n",
      "            ├── \u001b[01;34mbatch_0004\u001b[0m\n",
      "            ├── \u001b[01;34mbatch_0005\u001b[0m\n",
      "            ├── \u001b[01;34mbatch_0006\u001b[0m\n",
      "            ├── \u001b[01;34mbatch_0007\u001b[0m\n",
      "            ├── \u001b[01;34mbatch_0008\u001b[0m\n",
      "            ├── \u001b[01;34mbatch_0009\u001b[0m\n",
      "            ├── \u001b[01;34mbatch_0010\u001b[0m\n",
      "            ├── \u001b[01;34mbatch_0011\u001b[0m\n",
      "            ├── \u001b[01;34mbatch_0012\u001b[0m\n",
      "            ├── \u001b[01;34mbatch_0013\u001b[0m\n",
      "            ├── \u001b[01;34mbatch_0014\u001b[0m\n",
      "            ├── \u001b[01;34mbatch_0015\u001b[0m\n",
      "            ├── \u001b[01;34mbatch_0016\u001b[0m\n",
      "            ├── \u001b[01;34mbatch_0017\u001b[0m\n",
      "            ├── \u001b[01;34mbatch_0018\u001b[0m\n",
      "            ├── \u001b[01;34mbatch_0019\u001b[0m\n",
      "            ├── \u001b[01;34mbatch_0020\u001b[0m\n",
      "            ├── \u001b[01;34mbatch_0021\u001b[0m\n",
      "            ├── \u001b[01;34mbatch_0022\u001b[0m\n",
      "            ├── \u001b[01;34mbatch_0023\u001b[0m\n",
      "            ├── \u001b[01;34mbatch_0024\u001b[0m\n",
      "            ├── \u001b[01;34mbatch_0025\u001b[0m\n",
      "            ├── \u001b[01;34mbatch_0026\u001b[0m\n",
      "            ├── \u001b[01;34mbatch_0027\u001b[0m\n",
      "            ├── \u001b[01;34mbatch_0028\u001b[0m\n",
      "            ├── \u001b[01;34mbatch_0029\u001b[0m\n",
      "            ├── \u001b[01;34mbatch_0030\u001b[0m\n",
      "            ├── \u001b[01;34mbatch_0031\u001b[0m\n",
      "            ├── \u001b[01;34mbatch_0032\u001b[0m\n",
      "            ├── \u001b[01;34mbatch_0033\u001b[0m\n",
      "            ├── \u001b[01;34mbatch_0034\u001b[0m\n",
      "            ├── \u001b[01;34mbatch_0035\u001b[0m\n",
      "            ├── \u001b[01;34mbatch_0036\u001b[0m\n",
      "            ├── \u001b[01;34mbatch_0037\u001b[0m\n",
      "            ├── \u001b[01;34mbatch_0038\u001b[0m\n",
      "            ├── \u001b[01;34mbatch_0039\u001b[0m\n",
      "            ├── \u001b[01;34mbatch_0040\u001b[0m\n",
      "            ├── \u001b[01;34mbatch_0041\u001b[0m\n",
      "            ├── \u001b[01;34mbatch_0042\u001b[0m\n",
      "            ├── \u001b[01;34mbatch_0043\u001b[0m\n",
      "            ├── \u001b[01;34mbatch_0044\u001b[0m\n",
      "            ├── \u001b[01;34mbatch_0045\u001b[0m\n",
      "            ├── \u001b[01;34mbatch_0046\u001b[0m\n",
      "            ├── \u001b[01;34mbatch_0047\u001b[0m\n",
      "            ├── \u001b[01;34mbatch_0048\u001b[0m\n",
      "            ├── \u001b[01;34mbatch_0049\u001b[0m\n",
      "            ├── \u001b[01;34mbatch_0050\u001b[0m\n",
      "            ├── \u001b[01;34mbatch_0051\u001b[0m\n",
      "            ├── \u001b[01;34mbatch_0052\u001b[0m\n",
      "            ├── \u001b[01;34mbatch_0053\u001b[0m\n",
      "            ├── \u001b[01;34mbatch_0054\u001b[0m\n",
      "            ├── \u001b[01;34mbatch_0055\u001b[0m\n",
      "            ├── \u001b[01;34mbatch_0056\u001b[0m\n",
      "            ├── \u001b[01;34mbatch_0057\u001b[0m\n",
      "            ├── \u001b[01;34mbatch_0058\u001b[0m\n",
      "            ├── \u001b[01;34mbatch_0059\u001b[0m\n",
      "            └── \u001b[01;34mbatch_0060\u001b[0m\n",
      "\n",
      "118 directories, 0 files\n"
     ]
    }
   ],
   "source": [
    "!tree -L 4 /checkpoint/seamless/yaoj/data/batched_seamless_interaction/"
   ]
  },
  {
   "cell_type": "code",
   "execution_count": 82,
   "id": "7114ae67",
   "metadata": {},
   "outputs": [
    {
     "name": "stdout",
     "output_type": "stream",
     "text": [
      "35G\t/checkpoint/seamless/yaoj/data/batched_seamless_interaction/improvised/dev/video/batch_0002\n",
      "9.7G\t/checkpoint/seamless/yaoj/data/batched_seamless_interaction/improvised/dev/video/batch_0001\n",
      "38G\t/checkpoint/seamless/yaoj/data/batched_seamless_interaction/improvised/dev/video/batch_0003\n",
      "6.8G\t/checkpoint/seamless/yaoj/data/batched_seamless_interaction/improvised/dev/video/batch_0000\n",
      "89G\t/checkpoint/seamless/yaoj/data/batched_seamless_interaction/improvised/dev/video\n"
     ]
    }
   ],
   "source": [
    "!du -h -d 1 /checkpoint/seamless/yaoj/data/batched_seamless_interaction/improvised/dev/video"
   ]
  },
  {
   "cell_type": "code",
   "execution_count": null,
   "id": "c060ee08",
   "metadata": {},
   "outputs": [],
   "source": [
    "label, split = \"improvised\", \"train\"\n",
    "feature = \"video\"\n",
    "all_files = fs._fetch_filelist(label=label, split=split)\n",
    "partitions = fs.partition_filelist(all_files, partition_by=\"vendor-session-interaction\")\n",
    "batches = fs.create_batches(partitions, batch_size=batch_size_dict[feature])\n",
    "for i in range(len(batches)):\n",
    "    dest_fpath = f\"/checkpoint/seamless/yaoj/data/batched_seamless_interaction/{label}/{split}/{feature}/batch_{i:04d}/\"\n",
    "    os.makedirs(dest_fpath, exist_ok=True)\n",
    "    for file_id in batches[i]:\n",
    "        src_fpath = f\"{fs._local_dir}/{label}/{split}/{feature}/{file_id}.mp4\"\n",
    "        shutil.move(src_fpath, dest_fpath)"
   ]
  },
  {
   "cell_type": "code",
   "execution_count": 78,
   "id": "3bb2e2d5",
   "metadata": {},
   "outputs": [],
   "source": [
    "feature = \"audio\"\n",
    "batches = fs.create_batches(partitions, batch_size=batch_size_dict[feature])\n",
    "for i in range(len(batches)):\n",
    "    dest_fpath = f\"/checkpoint/seamless/yaoj/data/batched_seamless_interaction/{label}/{split}/{feature}/batch_{i:04d}/\"\n",
    "    os.makedirs(dest_fpath, exist_ok=True)\n",
    "    for file_id in batches[i]:\n",
    "        src_fpath = f\"{fs._local_dir}/{label}/{split}/{feature}/{file_id}.wav\"\n",
    "        if os.path.exists(src_fpath):\n",
    "            shutil.move(src_fpath, dest_fpath)\n",
    "        else:\n",
    "            print(f\"File {src_fpath} does not exist, skipping.\")"
   ]
  },
  {
   "cell_type": "code",
   "execution_count": 117,
   "id": "cc8c3f71",
   "metadata": {},
   "outputs": [
    {
     "name": "stdout",
     "output_type": "stream",
     "text": [
      "58M\t/checkpoint/seamless/yaoj/data/batched_seamless_interaction/improvised/train/metadata/batch_0023//../batch_0007\n"
     ]
    },
    {
     "name": "stdout",
     "output_type": "stream",
     "text": [
      "59M\t/checkpoint/seamless/yaoj/data/batched_seamless_interaction/improvised/train/metadata/batch_0023//../batch_0014\n",
      "50M\t/checkpoint/seamless/yaoj/data/batched_seamless_interaction/improvised/train/metadata/batch_0023//../batch_0021\n",
      "49M\t/checkpoint/seamless/yaoj/data/batched_seamless_interaction/improvised/train/metadata/batch_0023//../batch_0019\n",
      "58M\t/checkpoint/seamless/yaoj/data/batched_seamless_interaction/improvised/train/metadata/batch_0023//../batch_0013\n",
      "43M\t/checkpoint/seamless/yaoj/data/batched_seamless_interaction/improvised/train/metadata/batch_0023//../batch_0000\n",
      "52M\t/checkpoint/seamless/yaoj/data/batched_seamless_interaction/improvised/train/metadata/batch_0023//../batch_0004\n",
      "50M\t/checkpoint/seamless/yaoj/data/batched_seamless_interaction/improvised/train/metadata/batch_0023//../batch_0017\n",
      "50M\t/checkpoint/seamless/yaoj/data/batched_seamless_interaction/improvised/train/metadata/batch_0023//../batch_0022\n",
      "60M\t/checkpoint/seamless/yaoj/data/batched_seamless_interaction/improvised/train/metadata/batch_0023//../batch_0010\n",
      "61M\t/checkpoint/seamless/yaoj/data/batched_seamless_interaction/improvised/train/metadata/batch_0023//../batch_0009\n",
      "48M\t/checkpoint/seamless/yaoj/data/batched_seamless_interaction/improvised/train/metadata/batch_0023//../batch_0003\n",
      "45M\t/checkpoint/seamless/yaoj/data/batched_seamless_interaction/improvised/train/metadata/batch_0023//../batch_0001\n",
      "50M\t/checkpoint/seamless/yaoj/data/batched_seamless_interaction/improvised/train/metadata/batch_0023//../batch_0020\n",
      "58M\t/checkpoint/seamless/yaoj/data/batched_seamless_interaction/improvised/train/metadata/batch_0023//../batch_0012\n",
      "54M\t/checkpoint/seamless/yaoj/data/batched_seamless_interaction/improvised/train/metadata/batch_0023//../batch_0018\n",
      "58M\t/checkpoint/seamless/yaoj/data/batched_seamless_interaction/improvised/train/metadata/batch_0023//../batch_0015\n",
      "53M\t/checkpoint/seamless/yaoj/data/batched_seamless_interaction/improvised/train/metadata/batch_0023//../batch_0006\n",
      "48M\t/checkpoint/seamless/yaoj/data/batched_seamless_interaction/improvised/train/metadata/batch_0023//../batch_0002\n",
      "60M\t/checkpoint/seamless/yaoj/data/batched_seamless_interaction/improvised/train/metadata/batch_0023//../batch_0008\n",
      "11M\t/checkpoint/seamless/yaoj/data/batched_seamless_interaction/improvised/train/metadata/batch_0023//../batch_0023\n",
      "59M\t/checkpoint/seamless/yaoj/data/batched_seamless_interaction/improvised/train/metadata/batch_0023//../batch_0011\n",
      "49M\t/checkpoint/seamless/yaoj/data/batched_seamless_interaction/improvised/train/metadata/batch_0023//../batch_0016\n",
      "53M\t/checkpoint/seamless/yaoj/data/batched_seamless_interaction/improvised/train/metadata/batch_0023//../batch_0005\n",
      "1.2G\t/checkpoint/seamless/yaoj/data/batched_seamless_interaction/improvised/train/metadata/batch_0023//..\n"
     ]
    }
   ],
   "source": [
    "!du -h -d 1 $dest_dir/.."
   ]
  },
  {
   "cell_type": "code",
   "execution_count": 118,
   "id": "1154b66e",
   "metadata": {},
   "outputs": [],
   "source": [
    "label, split = \"naturalistic\", \"train\"\n",
    "feature = \"metadata\"\n",
    "file_suffix = \".jsonl\"\n",
    "all_files = fs._fetch_filelist(label=label, split=split)\n",
    "partitions = fs.partition_filelist(all_files, partition_by=\"vendor-session-interaction\")\n",
    "batches = fs.create_batches(partitions, batch_size=batch_size_dict[feature])\n",
    "src_dir = f\"{fs._local_dir}{label}/{split}/{feature}\"\n",
    "sub_folders = os.listdir(src_dir)\n",
    "for i in range(len(batches)):\n",
    "    dest_dir = f\"/checkpoint/seamless/yaoj/data/batched_seamless_interaction/{label}/{split}/{feature}/batch_{i:04d}/\"\n",
    "    os.makedirs(dest_dir, exist_ok=True)\n",
    "    for subfolder in sub_folders:\n",
    "        os.makedirs(f\"{dest_dir}/{subfolder}\", exist_ok=True)\n",
    "        for file_id in batches[i]:\n",
    "            src_fpath = f\"{src_dir}/{subfolder}/{file_id}{file_suffix}\"\n",
    "            if os.path.exists(src_fpath):\n",
    "                shutil.move(src_fpath, f\"{dest_dir}/{subfolder}/\")\n"
   ]
  },
  {
   "cell_type": "code",
   "execution_count": null,
   "id": "cccdb062",
   "metadata": {},
   "outputs": [
    {
     "data": {
      "text/plain": [
       "['vad', 'transcript']"
      ]
     },
     "execution_count": 104,
     "metadata": {},
     "output_type": "execute_result"
    }
   ],
   "source": [
    "label, split = \"improvised\", \"dev\"\n",
    "feature = \"movement\"\n",
    "file_suffix = \".npy\"\n",
    "all_files = fs._fetch_filelist(label=label, split=split)\n",
    "partitions = fs.partition_filelist(all_files, partition_by=\"vendor-session-interaction\")\n",
    "batches = fs.create_batches(partitions, batch_size=batch_size_dict[feature])\n",
    "src_dir = f\"{fs._local_dir}{label}/{split}/{feature}\"\n",
    "sub_folders = os.listdir(src_dir)\n",
    "for i in range(len(batches)):\n",
    "    dest_dir = f\"/checkpoint/seamless/yaoj/data/batched_seamless_interaction/{label}/{split}/{feature}/batch_{i:04d}/\"\n",
    "    os.makedirs(dest_dir, exist_ok=True)\n",
    "    for subfolder in sub_folders:\n",
    "        os.makedirs(f\"{dest_dir}/{subfolder}\", exist_ok=True)\n",
    "        for file_id in batches[i]:\n",
    "            src_fpath = f\"{src_dir}/{subfolder}/{file_id}{file_suffix}\"\n",
    "            if os.path.exists(src_fpath):\n",
    "                shutil.move(src_fpath, f\"{dest_dir}/{subfolder}/\")\n"
   ]
  }
 ],
 "metadata": {
  "kernelspec": {
   "display_name": "Python 3 (ipykernel)",
   "language": "python",
   "name": "python3"
  },
  "language_info": {
   "codemirror_mode": {
    "name": "ipython",
    "version": 3
   },
   "file_extension": ".py",
   "mimetype": "text/x-python",
   "name": "python",
   "nbconvert_exporter": "python",
   "pygments_lexer": "ipython3",
   "version": "3.10.16"
  }
 },
 "nbformat": 4,
 "nbformat_minor": 5
}
